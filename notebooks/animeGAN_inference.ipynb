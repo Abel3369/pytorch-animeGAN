{
  "nbformat": 4,
  "nbformat_minor": 0,
  "metadata": {
    "colab": {
      "name": "animeGAN_inference.ipynb",
      "provenance": [],
      "authorship_tag": "ABX9TyM2HRmUk5mxe8AWYvTME1OA",
      "include_colab_link": true
    },
    "kernelspec": {
      "name": "python3",
      "display_name": "Python 3"
    },
    "language_info": {
      "name": "python"
    },
    "accelerator": "GPU"
  },
  "cells": [
    {
      "cell_type": "markdown",
      "metadata": {
        "id": "view-in-github",
        "colab_type": "text"
      },
      "source": [
        "<a href=\"https://colab.research.google.com/github/ptran1203/pytorch-animeGAN/blob/master/notebooks/animeGAN_inference.ipynb\" target=\"_parent\"><img src=\"https://colab.research.google.com/assets/colab-badge.svg\" alt=\"Open In Colab\"/></a>"
      ]
    },
    {
      "cell_type": "code",
      "metadata": {
        "id": "8aB9Y3oub6pG"
      },
      "source": [
        "from google.colab import output\n",
        "import torch\n",
        "\n",
        "repo = \"Pytorch-animeGAN\"\n",
        "%cd \"/content\"\n",
        "!rm -rf {repo}\n",
        "!git clone https://github.com/ptran1203/{repo}\n",
        "%cd {repo}\n",
        "output.clear()"
      ],
      "execution_count": 1,
      "outputs": []
    },
    {
      "cell_type": "code",
      "metadata": {
        "id": "yD4fkHkWcjlA"
      },
      "source": [
        "from inference import Transformer\n",
        "transformer = Transformer('hayao')  "
      ],
      "execution_count": null,
      "outputs": []
    },
    {
      "cell_type": "code",
      "metadata": {
        "id": "dqfzfetBcoUo"
      },
      "source": [
        "import cv2\n",
        "import random\n",
        "import matplotlib.pyplot as plt\n",
        "import os\n",
        "import numpy as np\n",
        "from utils import read_image, resize_image\n",
        "\n",
        "def random_img(img_dir):\n",
        "    files = [f for f in os.listdir(img_dir) if 'anime' not in f]\n",
        "    p = os.path.join(img_dir, random.choice(files))\n",
        "    return resize_image(read_image(p), width=612)\n",
        "\n",
        "# image = random_img('./example/result')\n",
        "url = 'https://cdn.vox-cdn.com/thumbor/gU6znSoxGS1oNf9XCxy0xBMxFiU=/0x0:6949x4638/1200x800/filters:focal(2920x1764:4030x2874)/cdn.vox-cdn.com/uploads/chorus_image/image/59204015/shutterstock_536517334.0.jpg'\n",
        "image = resize_image(read_image(url))\n",
        "\n",
        "anime_img = (transformer.transform(image) + 1) / 2\n",
        "\n",
        "fig = plt.figure(figsize=(18, 25))\n",
        "fig.add_subplot(1, 2, 1)\n",
        "plt.imshow(image)\n",
        "fig.add_subplot(1, 2, 2)\n",
        "plt.imshow(anime_img[0])\n",
        "plt.show()"
      ],
      "execution_count": null,
      "outputs": []
    }
  ]
}